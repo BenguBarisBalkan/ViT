{
  "nbformat": 4,
  "nbformat_minor": 0,
  "metadata": {
    "colab": {
      "provenance": [],
      "machine_shape": "hm",
      "gpuType": "A100"
    },
    "kernelspec": {
      "name": "python3",
      "display_name": "Python 3"
    },
    "language_info": {
      "name": "python"
    },
    "accelerator": "GPU"
  },
  "cells": [
    {
      "cell_type": "markdown",
      "source": [
        "#EVALUATION OF BASELINE MODELS"
      ],
      "metadata": {
        "id": "F38GPx1lc_5r"
      }
    },
    {
      "cell_type": "code",
      "execution_count": 2,
      "metadata": {
        "id": "yhmCXnaeCu1w"
      },
      "outputs": [],
      "source": [
        "import kagglehub\n",
        "import os\n",
        "\n",
        "import tensorflow as tf\n",
        "import numpy as np\n",
        "import matplotlib.pyplot as plt\n",
        "import seaborn as sns\n",
        "\n",
        "from tensorflow.keras.preprocessing import image_dataset_from_directory\n",
        "from tensorflow.keras import layers, models\n",
        "from sklearn.metrics import confusion_matrix, ConfusionMatrixDisplay, classification_report"
      ]
    },
    {
      "cell_type": "markdown",
      "source": [
        "#Skin Cancer"
      ],
      "metadata": {
        "id": "5lujaMnnmO8_"
      }
    },
    {
      "cell_type": "code",
      "source": [
        "# Download latest version\n",
        "path_skin = kagglehub.dataset_download(\"hasnainjaved/melanoma-skin-cancer-dataset-of-10000-images\")\n",
        "\n",
        "print(\"Path to dataset files:\", path_skin)"
      ],
      "metadata": {
        "colab": {
          "base_uri": "https://localhost:8080/"
        },
        "id": "hswPCZAiCwdB",
        "outputId": "f3dade8c-0b46-4237-9e1c-65336351c98e"
      },
      "execution_count": 3,
      "outputs": [
        {
          "output_type": "stream",
          "name": "stdout",
          "text": [
            "Path to dataset files: /root/.cache/kagglehub/datasets/hasnainjaved/melanoma-skin-cancer-dataset-of-10000-images/versions/1\n"
          ]
        }
      ]
    },
    {
      "cell_type": "code",
      "source": [
        "# Replace 'directory_path' with your directory's path\n",
        "directory_path = path_skin+'/melanoma_cancer_dataset'\n",
        "\n",
        "# List all files and directories\n",
        "contents = os.listdir(directory_path)\n",
        "print(contents)"
      ],
      "metadata": {
        "colab": {
          "base_uri": "https://localhost:8080/"
        },
        "id": "gD-2JgUi2Aa_",
        "outputId": "6e14ee80-a5cc-43bf-ead3-0e362c2bf95d"
      },
      "execution_count": 4,
      "outputs": [
        {
          "output_type": "stream",
          "name": "stdout",
          "text": [
            "['test', 'train']\n"
          ]
        }
      ]
    },
    {
      "cell_type": "code",
      "source": [
        "# Path to your dataset\n",
        "train_path = path_skin+'/melanoma_cancer_dataset/train'\n",
        "test_path = path_skin+'/melanoma_cancer_dataset/test'\n",
        "\n",
        "# Load train dataset\n",
        "train_dataset = image_dataset_from_directory(\n",
        "    train_path,\n",
        "    label_mode=\"int\",\n",
        "    image_size=(224, 224),\n",
        "    batch_size=32,\n",
        "    seed=123,\n",
        "    validation_split=0.2,  # 20% of data used for validation\n",
        "    subset=\"training\"      # Specify this is the training subset\n",
        ")\n",
        "\n",
        "val_dataset = image_dataset_from_directory(\n",
        "    train_path,\n",
        "    label_mode=\"int\",\n",
        "    image_size=(224, 224),\n",
        "    batch_size=32,\n",
        "    seed=123,\n",
        "    validation_split=0.2,  # Same split ratio\n",
        "    subset=\"validation\"    # Specify this is the validation subset\n",
        ")\n",
        "\n",
        "# Load test dataset\n",
        "test_dataset = image_dataset_from_directory(\n",
        "    test_path,\n",
        "    label_mode=\"int\",\n",
        "    image_size=(224, 224),\n",
        "    batch_size=32,\n",
        "    seed=123,\n",
        "    shuffle=False\n",
        ")\n",
        "\n",
        "# Check class names\n",
        "class_names = train_dataset.class_names\n",
        "print(\"Class Names:\", class_names)"
      ],
      "metadata": {
        "colab": {
          "base_uri": "https://localhost:8080/"
        },
        "id": "i7Zx_QJ0yyLs",
        "outputId": "e84d16e7-301c-4e68-87ca-9cb305d99057"
      },
      "execution_count": 5,
      "outputs": [
        {
          "output_type": "stream",
          "name": "stdout",
          "text": [
            "Found 9605 files belonging to 2 classes.\n",
            "Using 7684 files for training.\n",
            "Found 9605 files belonging to 2 classes.\n",
            "Using 1921 files for validation.\n",
            "Found 1000 files belonging to 2 classes.\n",
            "Class Names: ['benign', 'malignant']\n"
          ]
        }
      ]
    },
    {
      "cell_type": "code",
      "source": [
        "# Save class names before applying map\n",
        "class_names = train_dataset.class_names\n",
        "print(\"Class Names:\", class_names)"
      ],
      "metadata": {
        "colab": {
          "base_uri": "https://localhost:8080/"
        },
        "id": "E-tk-LIh5FXA",
        "outputId": "a67ee9eb-76c6-45f8-d17b-8660461d4d7e"
      },
      "execution_count": 6,
      "outputs": [
        {
          "output_type": "stream",
          "name": "stdout",
          "text": [
            "Class Names: ['benign', 'malignant']\n"
          ]
        }
      ]
    },
    {
      "cell_type": "code",
      "source": [
        "data_augmentation = tf.keras.Sequential([\n",
        "    layers.RandomFlip(\"horizontal\"),\n",
        "    layers.RandomRotation(0.1),\n",
        "    layers.RandomZoom(0.1)\n",
        "])"
      ],
      "metadata": {
        "id": "c6RN6-_mvTUJ"
      },
      "execution_count": 7,
      "outputs": []
    },
    {
      "cell_type": "code",
      "source": [
        "# Apply data augmentation\n",
        "train_dataset = train_dataset.map(lambda x, y: (data_augmentation(x), y))\n",
        "\n",
        "# Prefetch the datasets for better performance\n",
        "AUTOTUNE = tf.data.AUTOTUNE\n",
        "train_dataset = train_dataset.prefetch(buffer_size=AUTOTUNE)\n",
        "val_dataset = val_dataset.prefetch(buffer_size=AUTOTUNE)\n",
        "test_dataset = test_dataset.prefetch(buffer_size=AUTOTUNE)"
      ],
      "metadata": {
        "id": "Ilc22eXN2Dt4"
      },
      "execution_count": 8,
      "outputs": []
    },
    {
      "cell_type": "code",
      "source": [
        "def build_vit_model(image_size=224, patch_size=16, num_classes=10, d_model=64, num_heads=4, mlp_dim=128, depth=8):\n",
        "    # Patch embedding\n",
        "    inputs = layers.Input(shape=(image_size, image_size, 3))\n",
        "    patches = layers.Conv2D(d_model, patch_size, strides=patch_size, padding='valid')(inputs)\n",
        "    patches = layers.Reshape((-1, d_model))(patches)  # Flatten patches\n",
        "\n",
        "    # Add positional embeddings\n",
        "    num_patches = (image_size // patch_size) ** 2\n",
        "    pos_embeddings = layers.Embedding(input_dim=num_patches, output_dim=d_model)(tf.range(num_patches))\n",
        "    embeddings = patches + pos_embeddings\n",
        "\n",
        "    # Transformer encoder\n",
        "    for _ in range(depth):\n",
        "        # Layer normalization\n",
        "        x = layers.LayerNormalization()(embeddings)\n",
        "        # Multi-head self-attention\n",
        "        attention_output = layers.MultiHeadAttention(num_heads=num_heads, key_dim=d_model)(x, x)\n",
        "        x = attention_output + embeddings  # Skip connection\n",
        "        # Feed-forward network\n",
        "        x = layers.LayerNormalization()(x)\n",
        "        x_ff = layers.Dense(mlp_dim, activation='relu')(x)\n",
        "        x_ff = layers.Dense(d_model)(x_ff)\n",
        "        embeddings = x_ff + x  # Skip connection\n",
        "\n",
        "    # Classification head\n",
        "    x = layers.LayerNormalization()(embeddings)\n",
        "    x = layers.GlobalAveragePooling1D()(x)\n",
        "    outputs = layers.Dense(num_classes, activation='softmax')(x)\n",
        "\n",
        "    return models.Model(inputs, outputs)\n"
      ],
      "metadata": {
        "id": "P3zMLqxB4iQE"
      },
      "execution_count": 9,
      "outputs": []
    },
    {
      "cell_type": "code",
      "source": [
        "lr_schedule = tf.keras.optimizers.schedules.ExponentialDecay(\n",
        "    initial_learning_rate=1e-3,\n",
        "    decay_steps=1000,\n",
        "    decay_rate=0.9\n",
        ")"
      ],
      "metadata": {
        "id": "Wl4oLCuCdfeC"
      },
      "execution_count": 10,
      "outputs": []
    },
    {
      "cell_type": "code",
      "source": [
        "early_stopping = tf.keras.callbacks.EarlyStopping(\n",
        "    monitor='val_loss',\n",
        "    patience=5,\n",
        "    restore_best_weights=True\n",
        ")"
      ],
      "metadata": {
        "id": "lG0IY1OInRf0"
      },
      "execution_count": 11,
      "outputs": []
    },
    {
      "cell_type": "code",
      "source": [
        "model = build_vit_model(image_size=224, patch_size=16, num_classes=len(class_names), depth=2)\n",
        "\n",
        "model.compile(\n",
        "    optimizer = tf.keras.optimizers.Adam(clipnorm=1.0),\n",
        "    loss='sparse_categorical_crossentropy',\n",
        "    metrics=['accuracy']\n",
        ")\n",
        "\n",
        "# Train the model\n",
        "history = model.fit(\n",
        "    train_dataset,\n",
        "    validation_data=val_dataset,\n",
        "    epochs=20,\n",
        "    callbacks=[early_stopping]\n",
        ")"
      ],
      "metadata": {
        "colab": {
          "base_uri": "https://localhost:8080/"
        },
        "id": "WvTbMyBH4iNm",
        "outputId": "76f2fcb6-da12-4afd-c4a6-3e8b26326149"
      },
      "execution_count": 12,
      "outputs": [
        {
          "output_type": "stream",
          "name": "stdout",
          "text": [
            "Epoch 1/20\n",
            "\u001b[1m241/241\u001b[0m \u001b[32m━━━━━━━━━━━━━━━━━━━━\u001b[0m\u001b[37m\u001b[0m \u001b[1m146s\u001b[0m 459ms/step - accuracy: 0.6090 - loss: 0.6675 - val_accuracy: 0.7944 - val_loss: 0.4281\n",
            "Epoch 2/20\n",
            "\u001b[1m241/241\u001b[0m \u001b[32m━━━━━━━━━━━━━━━━━━━━\u001b[0m\u001b[37m\u001b[0m \u001b[1m78s\u001b[0m 324ms/step - accuracy: 0.7936 - loss: 0.4763 - val_accuracy: 0.8037 - val_loss: 0.4212\n",
            "Epoch 3/20\n",
            "\u001b[1m241/241\u001b[0m \u001b[32m━━━━━━━━━━━━━━━━━━━━\u001b[0m\u001b[37m\u001b[0m \u001b[1m78s\u001b[0m 324ms/step - accuracy: 0.8002 - loss: 0.4458 - val_accuracy: 0.8074 - val_loss: 0.5068\n",
            "Epoch 4/20\n",
            "\u001b[1m241/241\u001b[0m \u001b[32m━━━━━━━━━━━━━━━━━━━━\u001b[0m\u001b[37m\u001b[0m \u001b[1m78s\u001b[0m 324ms/step - accuracy: 0.8234 - loss: 0.3924 - val_accuracy: 0.8204 - val_loss: 0.4009\n",
            "Epoch 5/20\n",
            "\u001b[1m241/241\u001b[0m \u001b[32m━━━━━━━━━━━━━━━━━━━━\u001b[0m\u001b[37m\u001b[0m \u001b[1m78s\u001b[0m 324ms/step - accuracy: 0.8388 - loss: 0.3664 - val_accuracy: 0.8209 - val_loss: 0.3645\n",
            "Epoch 6/20\n",
            "\u001b[1m241/241\u001b[0m \u001b[32m━━━━━━━━━━━━━━━━━━━━\u001b[0m\u001b[37m\u001b[0m \u001b[1m78s\u001b[0m 324ms/step - accuracy: 0.8342 - loss: 0.3690 - val_accuracy: 0.8391 - val_loss: 0.3373\n",
            "Epoch 7/20\n",
            "\u001b[1m241/241\u001b[0m \u001b[32m━━━━━━━━━━━━━━━━━━━━\u001b[0m\u001b[37m\u001b[0m \u001b[1m78s\u001b[0m 325ms/step - accuracy: 0.8407 - loss: 0.3605 - val_accuracy: 0.8339 - val_loss: 0.3556\n",
            "Epoch 8/20\n",
            "\u001b[1m241/241\u001b[0m \u001b[32m━━━━━━━━━━━━━━━━━━━━\u001b[0m\u001b[37m\u001b[0m \u001b[1m78s\u001b[0m 324ms/step - accuracy: 0.8430 - loss: 0.3546 - val_accuracy: 0.8391 - val_loss: 0.3408\n",
            "Epoch 9/20\n",
            "\u001b[1m241/241\u001b[0m \u001b[32m━━━━━━━━━━━━━━━━━━━━\u001b[0m\u001b[37m\u001b[0m \u001b[1m78s\u001b[0m 324ms/step - accuracy: 0.8496 - loss: 0.3414 - val_accuracy: 0.8251 - val_loss: 0.3760\n",
            "Epoch 10/20\n",
            "\u001b[1m241/241\u001b[0m \u001b[32m━━━━━━━━━━━━━━━━━━━━\u001b[0m\u001b[37m\u001b[0m \u001b[1m78s\u001b[0m 324ms/step - accuracy: 0.8502 - loss: 0.3429 - val_accuracy: 0.8480 - val_loss: 0.3294\n",
            "Epoch 11/20\n",
            "\u001b[1m241/241\u001b[0m \u001b[32m━━━━━━━━━━━━━━━━━━━━\u001b[0m\u001b[37m\u001b[0m \u001b[1m78s\u001b[0m 324ms/step - accuracy: 0.8524 - loss: 0.3346 - val_accuracy: 0.8438 - val_loss: 0.3315\n",
            "Epoch 12/20\n",
            "\u001b[1m241/241\u001b[0m \u001b[32m━━━━━━━━━━━━━━━━━━━━\u001b[0m\u001b[37m\u001b[0m \u001b[1m78s\u001b[0m 324ms/step - accuracy: 0.8492 - loss: 0.3306 - val_accuracy: 0.8480 - val_loss: 0.3222\n",
            "Epoch 13/20\n",
            "\u001b[1m241/241\u001b[0m \u001b[32m━━━━━━━━━━━━━━━━━━━━\u001b[0m\u001b[37m\u001b[0m \u001b[1m78s\u001b[0m 324ms/step - accuracy: 0.8524 - loss: 0.3340 - val_accuracy: 0.8522 - val_loss: 0.3320\n",
            "Epoch 14/20\n",
            "\u001b[1m241/241\u001b[0m \u001b[32m━━━━━━━━━━━━━━━━━━━━\u001b[0m\u001b[37m\u001b[0m \u001b[1m78s\u001b[0m 324ms/step - accuracy: 0.8583 - loss: 0.3244 - val_accuracy: 0.8511 - val_loss: 0.3214\n",
            "Epoch 15/20\n",
            "\u001b[1m241/241\u001b[0m \u001b[32m━━━━━━━━━━━━━━━━━━━━\u001b[0m\u001b[37m\u001b[0m \u001b[1m78s\u001b[0m 324ms/step - accuracy: 0.8612 - loss: 0.3254 - val_accuracy: 0.8199 - val_loss: 0.3986\n",
            "Epoch 16/20\n",
            "\u001b[1m241/241\u001b[0m \u001b[32m━━━━━━━━━━━━━━━━━━━━\u001b[0m\u001b[37m\u001b[0m \u001b[1m78s\u001b[0m 324ms/step - accuracy: 0.8564 - loss: 0.3270 - val_accuracy: 0.8475 - val_loss: 0.3305\n",
            "Epoch 17/20\n",
            "\u001b[1m241/241\u001b[0m \u001b[32m━━━━━━━━━━━━━━━━━━━━\u001b[0m\u001b[37m\u001b[0m \u001b[1m78s\u001b[0m 325ms/step - accuracy: 0.8536 - loss: 0.3238 - val_accuracy: 0.8412 - val_loss: 0.3392\n",
            "Epoch 18/20\n",
            "\u001b[1m241/241\u001b[0m \u001b[32m━━━━━━━━━━━━━━━━━━━━\u001b[0m\u001b[37m\u001b[0m \u001b[1m78s\u001b[0m 324ms/step - accuracy: 0.8576 - loss: 0.3143 - val_accuracy: 0.8553 - val_loss: 0.3135\n",
            "Epoch 19/20\n",
            "\u001b[1m241/241\u001b[0m \u001b[32m━━━━━━━━━━━━━━━━━━━━\u001b[0m\u001b[37m\u001b[0m \u001b[1m78s\u001b[0m 324ms/step - accuracy: 0.8621 - loss: 0.3119 - val_accuracy: 0.8475 - val_loss: 0.3381\n",
            "Epoch 20/20\n",
            "\u001b[1m241/241\u001b[0m \u001b[32m━━━━━━━━━━━━━━━━━━━━\u001b[0m\u001b[37m\u001b[0m \u001b[1m78s\u001b[0m 324ms/step - accuracy: 0.8690 - loss: 0.3095 - val_accuracy: 0.8553 - val_loss: 0.3020\n"
          ]
        }
      ]
    },
    {
      "cell_type": "code",
      "source": [
        "# Evaluate the model\n",
        "test_loss, test_acc = model.evaluate(test_dataset)\n",
        "print(f\"Test Accuracy: {test_acc:.2f}\")\n"
      ],
      "metadata": {
        "colab": {
          "base_uri": "https://localhost:8080/"
        },
        "id": "_7-Ei7Zu4iLX",
        "outputId": "66ec3854-f663-418b-b29a-0f707fd44d14"
      },
      "execution_count": 13,
      "outputs": [
        {
          "output_type": "stream",
          "name": "stdout",
          "text": [
            "\u001b[1m32/32\u001b[0m \u001b[32m━━━━━━━━━━━━━━━━━━━━\u001b[0m\u001b[37m\u001b[0m \u001b[1m8s\u001b[0m 271ms/step - accuracy: 0.8643 - loss: 0.2684\n",
            "Test Accuracy: 0.87\n"
          ]
        }
      ]
    },
    {
      "cell_type": "code",
      "source": [
        "model.save('skin_cancer_model.keras')"
      ],
      "metadata": {
        "id": "oWuhwnUVCoEL"
      },
      "execution_count": 14,
      "outputs": []
    },
    {
      "cell_type": "code",
      "source": [
        "# 1. Predict labels for the test dataset\n",
        "y_true = np.array([label.numpy() for _, label in test_dataset.unbatch()])\n",
        "y_pred = np.argmax(model.predict(test_dataset), axis=1)\n",
        "\n",
        "# 3. Compute the confusion matrix\n",
        "cm = confusion_matrix(y_true, y_pred)\n",
        "\n",
        "# 4. Plot the confusion matrix\n",
        "plt.figure(figsize=(8, 6))\n",
        "sns.heatmap(cm, annot=True, fmt=\"d\", cmap=\"Blues\", xticklabels=class_names, yticklabels=class_names)\n",
        "plt.xlabel(\"Predicted Labels\")\n",
        "plt.ylabel(\"True Labels\")\n",
        "plt.title(\"Confusion Matrix\")\n",
        "plt.show()"
      ],
      "metadata": {
        "colab": {
          "base_uri": "https://localhost:8080/",
          "height": 581
        },
        "id": "voM4MQbQIvyQ",
        "outputId": "26795b1c-28a6-4490-ddca-6df384afff6e"
      },
      "execution_count": 15,
      "outputs": [
        {
          "output_type": "stream",
          "name": "stdout",
          "text": [
            "\u001b[1m32/32\u001b[0m \u001b[32m━━━━━━━━━━━━━━━━━━━━\u001b[0m\u001b[37m\u001b[0m \u001b[1m4s\u001b[0m 66ms/step\n"
          ]
        },
        {
          "output_type": "display_data",
          "data": {
            "text/plain": [
              "<Figure size 800x600 with 2 Axes>"
            ],
            "image/png": "[encoded data removed]"
          },
          "metadata": {}
        }
      ]
    },
    {
      "cell_type": "code",
      "source": [
        "print(classification_report(y_true, y_pred, target_names=class_names))"
      ],
      "metadata": {
        "colab": {
          "base_uri": "https://localhost:8080/"
        },
        "id": "g3We0CnMIvwZ",
        "outputId": "b0582cfb-0503-493b-9865-152a056f39aa"
      },
      "execution_count": 16,
      "outputs": [
        {
          "output_type": "stream",
          "name": "stdout",
          "text": [
            "              precision    recall  f1-score   support\n",
            "\n",
            "      benign       0.87      0.88      0.87       500\n",
            "   malignant       0.87      0.87      0.87       500\n",
            "\n",
            "    accuracy                           0.87      1000\n",
            "   macro avg       0.87      0.87      0.87      1000\n",
            "weighted avg       0.87      0.87      0.87      1000\n",
            "\n"
          ]
        }
      ]
    },
    {
      "cell_type": "code",
      "source": [],
      "metadata": {
        "id": "pdtBOiUzJCib"
      },
      "execution_count": null,
      "outputs": []
    },
    {
      "cell_type": "markdown",
      "source": [
        "#Facial Skin Diseases"
      ],
      "metadata": {
        "id": "yOu3k8Y4mLDt"
      }
    },
    {
      "cell_type": "code",
      "source": [
        "# Download latest version\n",
        "path_facial = kagglehub.dataset_download(\"shwetakk/facial-skin-disease\")\n",
        "\n",
        "print(\"Path to dataset files:\", path_facial)"
      ],
      "metadata": {
        "colab": {
          "base_uri": "https://localhost:8080/"
        },
        "id": "kEarZUB-DDXz",
        "outputId": "2d0bbcbc-6077-4cda-ec79-22b1233a44f3"
      },
      "execution_count": 17,
      "outputs": [
        {
          "output_type": "stream",
          "name": "stdout",
          "text": [
            "Downloading from https://www.kaggle.com/api/v1/datasets/download/shwetakk/facial-skin-disease?dataset_version_number=1...\n"
          ]
        },
        {
          "output_type": "stream",
          "name": "stderr",
          "text": [
            "100%|██████████| 8.08M/8.08M [00:01<00:00, 5.56MB/s]"
          ]
        },
        {
          "output_type": "stream",
          "name": "stdout",
          "text": [
            "Extracting files...\n"
          ]
        },
        {
          "output_type": "stream",
          "name": "stderr",
          "text": [
            "\n"
          ]
        },
        {
          "output_type": "stream",
          "name": "stdout",
          "text": [
            "Path to dataset files: /root/.cache/kagglehub/datasets/shwetakk/facial-skin-disease/versions/1\n"
          ]
        }
      ]
    },
    {
      "cell_type": "code",
      "source": [
        "# Replace 'directory_path' with your directory's path\n",
        "directory_path = path_facial+'/facial-skin-diseases'\n",
        "\n",
        "# List all files and directories\n",
        "contents = os.listdir(directory_path)\n",
        "print(contents)"
      ],
      "metadata": {
        "colab": {
          "base_uri": "https://localhost:8080/"
        },
        "id": "exbqKG_VtumK",
        "outputId": "d2610e1d-0730-4dca-ea61-42b161125450"
      },
      "execution_count": 18,
      "outputs": [
        {
          "output_type": "stream",
          "name": "stdout",
          "text": [
            "['test', 'train']\n"
          ]
        }
      ]
    },
    {
      "cell_type": "code",
      "source": [
        "# Path to your dataset\n",
        "train_path = path_facial+'/facial-skin-diseases/train'\n",
        "test_path = path_facial+'/facial-skin-diseases/test'\n",
        "\n",
        "# Load train dataset\n",
        "train_dataset = image_dataset_from_directory(\n",
        "    train_path,\n",
        "    label_mode=\"int\",\n",
        "    image_size=(224, 224),\n",
        "    batch_size=32,\n",
        "    seed=123,\n",
        "    validation_split=0.2,  # 20% of data used for validation\n",
        "    subset=\"training\"      # Specify this is the training subset\n",
        ")\n",
        "\n",
        "val_dataset = image_dataset_from_directory(\n",
        "    train_path,\n",
        "    label_mode=\"int\",\n",
        "    image_size=(224, 224),\n",
        "    batch_size=32,\n",
        "    seed=123,\n",
        "    validation_split=0.2,  # Same split ratio\n",
        "    subset=\"validation\"    # Specify this is the validation subset\n",
        ")\n",
        "\n",
        "# Load test dataset\n",
        "test_dataset = image_dataset_from_directory(\n",
        "    test_path,\n",
        "    label_mode=\"int\",\n",
        "    image_size=(224, 224),\n",
        "    batch_size=32,\n",
        "    seed=123,\n",
        "    shuffle=False\n",
        ")\n",
        "\n",
        "# Check class names\n",
        "class_names = train_dataset.class_names\n",
        "print(\"Class Names:\", class_names)"
      ],
      "metadata": {
        "colab": {
          "base_uri": "https://localhost:8080/"
        },
        "id": "f7lLsJVcuzIo",
        "outputId": "e4715201-d270-4471-9ee9-fdf9dfab368b"
      },
      "execution_count": 19,
      "outputs": [
        {
          "output_type": "stream",
          "name": "stdout",
          "text": [
            "Found 398 files belonging to 5 classes.\n",
            "Using 319 files for training.\n",
            "Found 398 files belonging to 5 classes.\n",
            "Using 79 files for validation.\n",
            "Found 100 files belonging to 5 classes.\n",
            "Class Names: ['acne', 'eksim', 'herpes', 'panu', 'rosacea']\n"
          ]
        }
      ]
    },
    {
      "cell_type": "code",
      "source": [
        "# Save class names before applying map\n",
        "class_names = train_dataset.class_names\n",
        "print(\"Class Names:\", class_names)"
      ],
      "metadata": {
        "colab": {
          "base_uri": "https://localhost:8080/"
        },
        "id": "3XANBPx5uOy8",
        "outputId": "48a4bfc7-0ecd-4415-bacf-ac1fed0088d3"
      },
      "execution_count": 20,
      "outputs": [
        {
          "output_type": "stream",
          "name": "stdout",
          "text": [
            "Class Names: ['acne', 'eksim', 'herpes', 'panu', 'rosacea']\n"
          ]
        }
      ]
    },
    {
      "cell_type": "code",
      "source": [
        "# Apply data augmentation\n",
        "train_dataset = train_dataset.map(lambda x, y: (data_augmentation(x), y))\n",
        "\n",
        "# Prefetch the datasets for better performance\n",
        "AUTOTUNE = tf.data.AUTOTUNE\n",
        "train_dataset = train_dataset.prefetch(buffer_size=AUTOTUNE)\n",
        "val_dataset = val_dataset.prefetch(buffer_size=AUTOTUNE)\n",
        "test_dataset = test_dataset.prefetch(buffer_size=AUTOTUNE)"
      ],
      "metadata": {
        "id": "4TtzKw6gvLTM"
      },
      "execution_count": 21,
      "outputs": []
    },
    {
      "cell_type": "code",
      "source": [
        "model = build_vit_model(image_size=224, patch_size=16, num_classes=len(class_names), depth=2)\n",
        "\n",
        "model.compile(\n",
        "    optimizer = tf.keras.optimizers.Adam(clipnorm=1.0),\n",
        "    loss='sparse_categorical_crossentropy',\n",
        "    metrics=['accuracy']\n",
        ")\n",
        "\n",
        "# Train the model\n",
        "history = model.fit(\n",
        "    train_dataset,\n",
        "    validation_data=val_dataset,\n",
        "    epochs=20\n",
        ")"
      ],
      "metadata": {
        "colab": {
          "base_uri": "https://localhost:8080/"
        },
        "id": "gMKj2Yf3vLRF",
        "outputId": "551fe27e-95c2-4fe7-e5d3-a0a10ea3f0f2"
      },
      "execution_count": 22,
      "outputs": [
        {
          "output_type": "stream",
          "name": "stdout",
          "text": [
            "Epoch 1/20\n",
            "\u001b[1m10/10\u001b[0m \u001b[32m━━━━━━━━━━━━━━━━━━━━\u001b[0m\u001b[37m\u001b[0m \u001b[1m54s\u001b[0m 4s/step - accuracy: 0.2181 - loss: 2.1354 - val_accuracy: 0.2025 - val_loss: 1.6437\n",
            "Epoch 2/20\n",
            "\u001b[1m10/10\u001b[0m \u001b[32m━━━━━━━━━━━━━━━━━━━━\u001b[0m\u001b[37m\u001b[0m \u001b[1m3s\u001b[0m 327ms/step - accuracy: 0.1811 - loss: 1.6752 - val_accuracy: 0.1646 - val_loss: 1.6146\n",
            "Epoch 3/20\n",
            "\u001b[1m10/10\u001b[0m \u001b[32m━━━━━━━━━━━━━━━━━━━━\u001b[0m\u001b[37m\u001b[0m \u001b[1m3s\u001b[0m 325ms/step - accuracy: 0.1914 - loss: 1.6297 - val_accuracy: 0.2152 - val_loss: 1.6203\n",
            "Epoch 4/20\n",
            "\u001b[1m10/10\u001b[0m \u001b[32m━━━━━━━━━━━━━━━━━━━━\u001b[0m\u001b[37m\u001b[0m \u001b[1m3s\u001b[0m 325ms/step - accuracy: 0.2422 - loss: 1.6333 - val_accuracy: 0.1646 - val_loss: 1.6752\n",
            "Epoch 5/20\n",
            "\u001b[1m10/10\u001b[0m \u001b[32m━━━━━━━━━━━━━━━━━━━━\u001b[0m\u001b[37m\u001b[0m \u001b[1m3s\u001b[0m 325ms/step - accuracy: 0.2471 - loss: 1.6671 - val_accuracy: 0.2152 - val_loss: 1.6055\n",
            "Epoch 6/20\n",
            "\u001b[1m10/10\u001b[0m \u001b[32m━━━━━━━━━━━━━━━━━━━━\u001b[0m\u001b[37m\u001b[0m \u001b[1m3s\u001b[0m 329ms/step - accuracy: 0.1797 - loss: 1.6457 - val_accuracy: 0.2025 - val_loss: 1.6199\n",
            "Epoch 7/20\n",
            "\u001b[1m10/10\u001b[0m \u001b[32m━━━━━━━━━━━━━━━━━━━━\u001b[0m\u001b[37m\u001b[0m \u001b[1m3s\u001b[0m 325ms/step - accuracy: 0.2318 - loss: 1.6286 - val_accuracy: 0.1646 - val_loss: 1.6572\n",
            "Epoch 8/20\n",
            "\u001b[1m10/10\u001b[0m \u001b[32m━━━━━━━━━━━━━━━━━━━━\u001b[0m\u001b[37m\u001b[0m \u001b[1m3s\u001b[0m 325ms/step - accuracy: 0.2762 - loss: 1.6036 - val_accuracy: 0.2152 - val_loss: 1.6278\n",
            "Epoch 9/20\n",
            "\u001b[1m10/10\u001b[0m \u001b[32m━━━━━━━━━━━━━━━━━━━━\u001b[0m\u001b[37m\u001b[0m \u001b[1m3s\u001b[0m 327ms/step - accuracy: 0.2033 - loss: 1.6359 - val_accuracy: 0.1646 - val_loss: 1.6345\n",
            "Epoch 10/20\n",
            "\u001b[1m10/10\u001b[0m \u001b[32m━━━━━━━━━━━━━━━━━━━━\u001b[0m\u001b[37m\u001b[0m \u001b[1m3s\u001b[0m 324ms/step - accuracy: 0.2254 - loss: 1.6067 - val_accuracy: 0.2152 - val_loss: 1.6541\n",
            "Epoch 11/20\n",
            "\u001b[1m10/10\u001b[0m \u001b[32m━━━━━━━━━━━━━━━━━━━━\u001b[0m\u001b[37m\u001b[0m \u001b[1m3s\u001b[0m 325ms/step - accuracy: 0.2339 - loss: 1.6017 - val_accuracy: 0.2025 - val_loss: 1.6090\n",
            "Epoch 12/20\n",
            "\u001b[1m10/10\u001b[0m \u001b[32m━━━━━━━━━━━━━━━━━━━━\u001b[0m\u001b[37m\u001b[0m \u001b[1m3s\u001b[0m 325ms/step - accuracy: 0.2570 - loss: 1.6100 - val_accuracy: 0.1772 - val_loss: 1.6716\n",
            "Epoch 13/20\n",
            "\u001b[1m10/10\u001b[0m \u001b[32m━━━━━━━━━━━━━━━━━━━━\u001b[0m\u001b[37m\u001b[0m \u001b[1m3s\u001b[0m 326ms/step - accuracy: 0.2557 - loss: 1.6214 - val_accuracy: 0.2025 - val_loss: 1.5988\n",
            "Epoch 14/20\n",
            "\u001b[1m10/10\u001b[0m \u001b[32m━━━━━━━━━━━━━━━━━━━━\u001b[0m\u001b[37m\u001b[0m \u001b[1m3s\u001b[0m 325ms/step - accuracy: 0.2161 - loss: 1.5784 - val_accuracy: 0.1772 - val_loss: 1.6192\n",
            "Epoch 15/20\n",
            "\u001b[1m10/10\u001b[0m \u001b[32m━━━━━━━━━━━━━━━━━━━━\u001b[0m\u001b[37m\u001b[0m \u001b[1m3s\u001b[0m 325ms/step - accuracy: 0.2876 - loss: 1.5676 - val_accuracy: 0.2405 - val_loss: 1.6328\n",
            "Epoch 16/20\n",
            "\u001b[1m10/10\u001b[0m \u001b[32m━━━━━━━━━━━━━━━━━━━━\u001b[0m\u001b[37m\u001b[0m \u001b[1m3s\u001b[0m 326ms/step - accuracy: 0.2484 - loss: 1.5637 - val_accuracy: 0.2532 - val_loss: 1.6149\n",
            "Epoch 17/20\n",
            "\u001b[1m10/10\u001b[0m \u001b[32m━━━━━━━━━━━━━━━━━━━━\u001b[0m\u001b[37m\u001b[0m \u001b[1m3s\u001b[0m 325ms/step - accuracy: 0.3014 - loss: 1.5294 - val_accuracy: 0.2278 - val_loss: 1.7422\n",
            "Epoch 18/20\n",
            "\u001b[1m10/10\u001b[0m \u001b[32m━━━━━━━━━━━━━━━━━━━━\u001b[0m\u001b[37m\u001b[0m \u001b[1m3s\u001b[0m 325ms/step - accuracy: 0.2312 - loss: 1.5490 - val_accuracy: 0.2658 - val_loss: 1.6198\n",
            "Epoch 19/20\n",
            "\u001b[1m10/10\u001b[0m \u001b[32m━━━━━━━━━━━━━━━━━━━━\u001b[0m\u001b[37m\u001b[0m \u001b[1m3s\u001b[0m 328ms/step - accuracy: 0.2814 - loss: 1.5248 - val_accuracy: 0.2152 - val_loss: 1.6261\n",
            "Epoch 20/20\n",
            "\u001b[1m10/10\u001b[0m \u001b[32m━━━━━━━━━━━━━━━━━━━━\u001b[0m\u001b[37m\u001b[0m \u001b[1m3s\u001b[0m 327ms/step - accuracy: 0.2792 - loss: 1.5664 - val_accuracy: 0.2152 - val_loss: 1.6346\n"
          ]
        }
      ]
    },
    {
      "cell_type": "code",
      "source": [
        "# Evaluate the model\n",
        "test_loss, test_acc = model.evaluate(test_dataset)\n",
        "print(f\"Test Accuracy: {test_acc:.2f}\")"
      ],
      "metadata": {
        "colab": {
          "base_uri": "https://localhost:8080/"
        },
        "id": "39xaoCPjvLO_",
        "outputId": "813c0a20-8cc6-49f6-8419-1fd3bd5aeb70"
      },
      "execution_count": 23,
      "outputs": [
        {
          "output_type": "stream",
          "name": "stdout",
          "text": [
            "\u001b[1m4/4\u001b[0m \u001b[32m━━━━━━━━━━━━━━━━━━━━\u001b[0m\u001b[37m\u001b[0m \u001b[1m2s\u001b[0m 667ms/step - accuracy: 0.3099 - loss: 1.5946\n",
            "Test Accuracy: 0.28\n"
          ]
        }
      ]
    },
    {
      "cell_type": "code",
      "source": [
        "model.save('facial_diseases_model.keras')"
      ],
      "metadata": {
        "id": "7P0nLpbvvuI6"
      },
      "execution_count": 24,
      "outputs": []
    },
    {
      "cell_type": "code",
      "source": [
        "# 1. Predict labels for the test dataset\n",
        "y_true = np.array([label.numpy() for _, label in test_dataset.unbatch()])\n",
        "y_pred = np.argmax(model.predict(test_dataset), axis=1)\n",
        "\n",
        "# 3. Compute the confusion matrix\n",
        "cm = confusion_matrix(y_true, y_pred)\n",
        "\n",
        "# 4. Plot the confusion matrix\n",
        "plt.figure(figsize=(8, 6))\n",
        "sns.heatmap(cm, annot=True, fmt=\"d\", cmap=\"Blues\", xticklabels=class_names, yticklabels=class_names)\n",
        "plt.xlabel(\"Predicted Labels\")\n",
        "plt.ylabel(\"True Labels\")\n",
        "plt.title(\"Confusion Matrix\")\n",
        "plt.show()"
      ],
      "metadata": {
        "colab": {
          "base_uri": "https://localhost:8080/",
          "height": 581
        },
        "id": "5z4uyxJ-JPf7",
        "outputId": "63581c6b-1939-4c42-8907-a36f9bc0404d"
      },
      "execution_count": 25,
      "outputs": [
        {
          "output_type": "stream",
          "name": "stdout",
          "text": [
            "\u001b[1m4/4\u001b[0m \u001b[32m━━━━━━━━━━━━━━━━━━━━\u001b[0m\u001b[37m\u001b[0m \u001b[1m5s\u001b[0m 702ms/step\n"
          ]
        },
        {
          "output_type": "display_data",
          "data": {
            "text/plain": [
              "<Figure size 800x600 with 2 Axes>"
            ],
            "image/png": "[encoded data removed]"
          },
          "metadata": {}
        }
      ]
    },
    {
      "cell_type": "code",
      "source": [
        "print(classification_report(y_true, y_pred, target_names=class_names))"
      ],
      "metadata": {
        "colab": {
          "base_uri": "https://localhost:8080/"
        },
        "id": "cHtLW27LJPbk",
        "outputId": "96af82ff-3fb5-4937-e63f-5cb842c39521"
      },
      "execution_count": 26,
      "outputs": [
        {
          "output_type": "stream",
          "name": "stdout",
          "text": [
            "              precision    recall  f1-score   support\n",
            "\n",
            "        acne       0.23      0.88      0.37        17\n",
            "       eksim       0.00      0.00      0.00        22\n",
            "      herpes       0.00      0.00      0.00        19\n",
            "        panu       0.25      0.32      0.28        19\n",
            "     rosacea       0.58      0.30      0.40        23\n",
            "\n",
            "    accuracy                           0.28       100\n",
            "   macro avg       0.21      0.30      0.21       100\n",
            "weighted avg       0.22      0.28      0.21       100\n",
            "\n"
          ]
        },
        {
          "output_type": "stream",
          "name": "stderr",
          "text": [
            "/usr/local/lib/python3.11/dist-packages/sklearn/metrics/_classification.py:1565: UndefinedMetricWarning: Precision is ill-defined and being set to 0.0 in labels with no predicted samples. Use `zero_division` parameter to control this behavior.\n",
            "  _warn_prf(average, modifier, f\"{metric.capitalize()} is\", len(result))\n",
            "/usr/local/lib/python3.11/dist-packages/sklearn/metrics/_classification.py:1565: UndefinedMetricWarning: Precision is ill-defined and being set to 0.0 in labels with no predicted samples. Use `zero_division` parameter to control this behavior.\n",
            "  _warn_prf(average, modifier, f\"{metric.capitalize()} is\", len(result))\n",
            "/usr/local/lib/python3.11/dist-packages/sklearn/metrics/_classification.py:1565: UndefinedMetricWarning: Precision is ill-defined and being set to 0.0 in labels with no predicted samples. Use `zero_division` parameter to control this behavior.\n",
            "  _warn_prf(average, modifier, f\"{metric.capitalize()} is\", len(result))\n"
          ]
        }
      ]
    },
    {
      "cell_type": "code",
      "source": [],
      "metadata": {
        "id": "ExjiYZrhJaCd"
      },
      "execution_count": null,
      "outputs": []
    },
    {
      "cell_type": "markdown",
      "source": [
        "#Hair Diseases"
      ],
      "metadata": {
        "id": "1nnPD8WUmS6I"
      }
    },
    {
      "cell_type": "code",
      "source": [
        "# Download latest version\n",
        "path_hair = kagglehub.dataset_download(\"sundarannamalai/hair-diseases\")\n",
        "\n",
        "print(\"Path to dataset files:\", path_hair)"
      ],
      "metadata": {
        "colab": {
          "base_uri": "https://localhost:8080/"
        },
        "id": "bTg-F4YsDDUw",
        "outputId": "e69de7e4-e146-4820-f83c-e9faf1be8f60"
      },
      "execution_count": 27,
      "outputs": [
        {
          "output_type": "stream",
          "name": "stdout",
          "text": [
            "Downloading from https://www.kaggle.com/api/v1/datasets/download/sundarannamalai/hair-diseases?dataset_version_number=1...\n"
          ]
        },
        {
          "output_type": "stream",
          "name": "stderr",
          "text": [
            "100%|██████████| 564M/564M [00:31<00:00, 18.6MB/s]"
          ]
        },
        {
          "output_type": "stream",
          "name": "stdout",
          "text": [
            "Extracting files...\n"
          ]
        },
        {
          "output_type": "stream",
          "name": "stderr",
          "text": [
            "\n"
          ]
        },
        {
          "output_type": "stream",
          "name": "stdout",
          "text": [
            "Path to dataset files: /root/.cache/kagglehub/datasets/sundarannamalai/hair-diseases/versions/1\n"
          ]
        }
      ]
    },
    {
      "cell_type": "code",
      "source": [
        "# Replace 'directory_path' with your directory's path\n",
        "directory_path = path_hair+'/Hair Diseases - Final'\n",
        "\n",
        "# List all files and directories\n",
        "contents = os.listdir(directory_path)\n",
        "print(contents)"
      ],
      "metadata": {
        "colab": {
          "base_uri": "https://localhost:8080/"
        },
        "id": "lZpGaAmozDdr",
        "outputId": "a304b176-f061-4d1e-ffae-e93d72325a13"
      },
      "execution_count": 28,
      "outputs": [
        {
          "output_type": "stream",
          "name": "stdout",
          "text": [
            "['test', 'train', 'val']\n"
          ]
        }
      ]
    },
    {
      "cell_type": "code",
      "source": [
        "# Path to your dataset\n",
        "train_path = path_hair+'/Hair Diseases - Final/train'\n",
        "val_path = path_hair+'/Hair Diseases - Final/val'\n",
        "test_path = path_hair+'/Hair Diseases - Final/test'\n",
        "\n",
        "# Load train dataset\n",
        "train_dataset = image_dataset_from_directory(\n",
        "    train_path,\n",
        "    label_mode=\"int\",\n",
        "    image_size=(224, 224),\n",
        "    batch_size=32,\n",
        "    seed=123\n",
        ")\n",
        "\n",
        "val_dataset = image_dataset_from_directory(\n",
        "    val_path,\n",
        "    label_mode=\"int\",\n",
        "    image_size=(224, 224),\n",
        "    batch_size=32,\n",
        "    seed=123\n",
        ")\n",
        "\n",
        "# Load test dataset\n",
        "test_dataset = image_dataset_from_directory(\n",
        "    test_path,\n",
        "    label_mode=\"int\",\n",
        "    image_size=(224, 224),\n",
        "    batch_size=32,\n",
        "    seed=123,\n",
        "    shuffle=False\n",
        ")\n",
        "\n",
        "# Check class names\n",
        "class_names = train_dataset.class_names\n",
        "print(\"Class Names:\", class_names)"
      ],
      "metadata": {
        "colab": {
          "base_uri": "https://localhost:8080/"
        },
        "id": "JGtmT99jzDax",
        "outputId": "ca3e036b-447f-47ed-f0c1-ccd5318ed98d"
      },
      "execution_count": 29,
      "outputs": [
        {
          "output_type": "stream",
          "name": "stdout",
          "text": [
            "Found 9600 files belonging to 10 classes.\n",
            "Found 1200 files belonging to 10 classes.\n",
            "Found 1200 files belonging to 10 classes.\n",
            "Class Names: ['Alopecia Areata', 'Contact Dermatitis', 'Folliculitis', 'Head Lice', 'Lichen Planus', 'Male Pattern Baldness', 'Psoriasis', 'Seborrheic Dermatitis', 'Telogen Effluvium', 'Tinea Capitis']\n"
          ]
        }
      ]
    },
    {
      "cell_type": "code",
      "source": [
        "# Save class names before applying map\n",
        "class_names = train_dataset.class_names\n",
        "print(\"Class Names:\", class_names)"
      ],
      "metadata": {
        "colab": {
          "base_uri": "https://localhost:8080/"
        },
        "id": "S36aD4GTzDYg",
        "outputId": "30068eea-a74c-4cfa-a3f8-5a4c622a4e58"
      },
      "execution_count": 30,
      "outputs": [
        {
          "output_type": "stream",
          "name": "stdout",
          "text": [
            "Class Names: ['Alopecia Areata', 'Contact Dermatitis', 'Folliculitis', 'Head Lice', 'Lichen Planus', 'Male Pattern Baldness', 'Psoriasis', 'Seborrheic Dermatitis', 'Telogen Effluvium', 'Tinea Capitis']\n"
          ]
        }
      ]
    },
    {
      "cell_type": "code",
      "source": [
        "# Apply data augmentation\n",
        "train_dataset = train_dataset.map(lambda x, y: (data_augmentation(x), y))\n",
        "\n",
        "# Prefetch the datasets for better performance\n",
        "AUTOTUNE = tf.data.AUTOTUNE\n",
        "train_dataset = train_dataset.prefetch(buffer_size=AUTOTUNE)\n",
        "val_dataset = val_dataset.prefetch(buffer_size=AUTOTUNE)\n",
        "test_dataset = test_dataset.prefetch(buffer_size=AUTOTUNE)"
      ],
      "metadata": {
        "id": "n9CZ2PF7zDWM"
      },
      "execution_count": 31,
      "outputs": []
    },
    {
      "cell_type": "code",
      "source": [
        "model = build_vit_model(image_size=224, patch_size=16, num_classes=len(class_names), depth=2)\n",
        "\n",
        "model.compile(\n",
        "    optimizer = tf.keras.optimizers.Adam(clipnorm=1.0),\n",
        "    loss='sparse_categorical_crossentropy',\n",
        "    metrics=['accuracy']\n",
        ")\n",
        "\n",
        "# Train the model\n",
        "history = model.fit(\n",
        "    train_dataset,\n",
        "    validation_data=val_dataset,\n",
        "    epochs=20\n",
        ")"
      ],
      "metadata": {
        "colab": {
          "base_uri": "https://localhost:8080/"
        },
        "id": "v8p_Vai4zrJr",
        "outputId": "f3e15388-217b-4a29-aef9-2e75364468b9"
      },
      "execution_count": 32,
      "outputs": [
        {
          "output_type": "stream",
          "name": "stdout",
          "text": [
            "Epoch 1/20\n",
            "\u001b[1m300/300\u001b[0m \u001b[32m━━━━━━━━━━━━━━━━━━━━\u001b[0m\u001b[37m\u001b[0m \u001b[1m125s\u001b[0m 361ms/step - accuracy: 0.1307 - loss: 2.3714 - val_accuracy: 0.2458 - val_loss: 2.0656\n",
            "Epoch 2/20\n",
            "\u001b[1m300/300\u001b[0m \u001b[32m━━━━━━━━━━━━━━━━━━━━\u001b[0m\u001b[37m\u001b[0m \u001b[1m98s\u001b[0m 327ms/step - accuracy: 0.2757 - loss: 2.0134 - val_accuracy: 0.4017 - val_loss: 1.7437\n",
            "Epoch 3/20\n",
            "\u001b[1m300/300\u001b[0m \u001b[32m━━━━━━━━━━━━━━━━━━━━\u001b[0m\u001b[37m\u001b[0m \u001b[1m98s\u001b[0m 327ms/step - accuracy: 0.3973 - loss: 1.6981 - val_accuracy: 0.4825 - val_loss: 1.4430\n",
            "Epoch 4/20\n",
            "\u001b[1m300/300\u001b[0m \u001b[32m━━━━━━━━━━━━━━━━━━━━\u001b[0m\u001b[37m\u001b[0m \u001b[1m98s\u001b[0m 327ms/step - accuracy: 0.5530 - loss: 1.2941 - val_accuracy: 0.5667 - val_loss: 1.2603\n",
            "Epoch 5/20\n",
            "\u001b[1m300/300\u001b[0m \u001b[32m━━━━━━━━━━━━━━━━━━━━\u001b[0m\u001b[37m\u001b[0m \u001b[1m98s\u001b[0m 327ms/step - accuracy: 0.6754 - loss: 0.9461 - val_accuracy: 0.7550 - val_loss: 0.7239\n",
            "Epoch 6/20\n",
            "\u001b[1m300/300\u001b[0m \u001b[32m━━━━━━━━━━━━━━━━━━━━\u001b[0m\u001b[37m\u001b[0m \u001b[1m98s\u001b[0m 327ms/step - accuracy: 0.7873 - loss: 0.6397 - val_accuracy: 0.8258 - val_loss: 0.5438\n",
            "Epoch 7/20\n",
            "\u001b[1m300/300\u001b[0m \u001b[32m━━━━━━━━━━━━━━━━━━━━\u001b[0m\u001b[37m\u001b[0m \u001b[1m98s\u001b[0m 327ms/step - accuracy: 0.8684 - loss: 0.4271 - val_accuracy: 0.8183 - val_loss: 0.5229\n",
            "Epoch 8/20\n",
            "\u001b[1m300/300\u001b[0m \u001b[32m━━━━━━━━━━━━━━━━━━━━\u001b[0m\u001b[37m\u001b[0m \u001b[1m98s\u001b[0m 327ms/step - accuracy: 0.8809 - loss: 0.3547 - val_accuracy: 0.9408 - val_loss: 0.2053\n",
            "Epoch 9/20\n",
            "\u001b[1m300/300\u001b[0m \u001b[32m━━━━━━━━━━━━━━━━━━━━\u001b[0m\u001b[37m\u001b[0m \u001b[1m98s\u001b[0m 327ms/step - accuracy: 0.9233 - loss: 0.2345 - val_accuracy: 0.9492 - val_loss: 0.1764\n",
            "Epoch 10/20\n",
            "\u001b[1m300/300\u001b[0m \u001b[32m━━━━━━━━━━━━━━━━━━━━\u001b[0m\u001b[37m\u001b[0m \u001b[1m98s\u001b[0m 327ms/step - accuracy: 0.9454 - loss: 0.1794 - val_accuracy: 0.9492 - val_loss: 0.1508\n",
            "Epoch 11/20\n",
            "\u001b[1m300/300\u001b[0m \u001b[32m━━━━━━━━━━━━━━━━━━━━\u001b[0m\u001b[37m\u001b[0m \u001b[1m98s\u001b[0m 327ms/step - accuracy: 0.9517 - loss: 0.1543 - val_accuracy: 0.9358 - val_loss: 0.2064\n",
            "Epoch 12/20\n",
            "\u001b[1m300/300\u001b[0m \u001b[32m━━━━━━━━━━━━━━━━━━━━\u001b[0m\u001b[37m\u001b[0m \u001b[1m98s\u001b[0m 327ms/step - accuracy: 0.9597 - loss: 0.1331 - val_accuracy: 0.9508 - val_loss: 0.1776\n",
            "Epoch 13/20\n",
            "\u001b[1m300/300\u001b[0m \u001b[32m━━━━━━━━━━━━━━━━━━━━\u001b[0m\u001b[37m\u001b[0m \u001b[1m98s\u001b[0m 327ms/step - accuracy: 0.9562 - loss: 0.1410 - val_accuracy: 0.9592 - val_loss: 0.1338\n",
            "Epoch 14/20\n",
            "\u001b[1m300/300\u001b[0m \u001b[32m━━━━━━━━━━━━━━━━━━━━\u001b[0m\u001b[37m\u001b[0m \u001b[1m98s\u001b[0m 327ms/step - accuracy: 0.9615 - loss: 0.1269 - val_accuracy: 0.9875 - val_loss: 0.0546\n",
            "Epoch 15/20\n",
            "\u001b[1m300/300\u001b[0m \u001b[32m━━━━━━━━━━━━━━━━━━━━\u001b[0m\u001b[37m\u001b[0m \u001b[1m98s\u001b[0m 327ms/step - accuracy: 0.9677 - loss: 0.0996 - val_accuracy: 0.9708 - val_loss: 0.0884\n",
            "Epoch 16/20\n",
            "\u001b[1m300/300\u001b[0m \u001b[32m━━━━━━━━━━━━━━━━━━━━\u001b[0m\u001b[37m\u001b[0m \u001b[1m98s\u001b[0m 327ms/step - accuracy: 0.9686 - loss: 0.1002 - val_accuracy: 0.9858 - val_loss: 0.0534\n",
            "Epoch 17/20\n",
            "\u001b[1m300/300\u001b[0m \u001b[32m━━━━━━━━━━━━━━━━━━━━\u001b[0m\u001b[37m\u001b[0m \u001b[1m98s\u001b[0m 327ms/step - accuracy: 0.9754 - loss: 0.0821 - val_accuracy: 0.9792 - val_loss: 0.0673\n",
            "Epoch 18/20\n",
            "\u001b[1m300/300\u001b[0m \u001b[32m━━━━━━━━━━━━━━━━━━━━\u001b[0m\u001b[37m\u001b[0m \u001b[1m98s\u001b[0m 327ms/step - accuracy: 0.9760 - loss: 0.0709 - val_accuracy: 0.9758 - val_loss: 0.0855\n",
            "Epoch 19/20\n",
            "\u001b[1m300/300\u001b[0m \u001b[32m━━━━━━━━━━━━━━━━━━━━\u001b[0m\u001b[37m\u001b[0m \u001b[1m98s\u001b[0m 327ms/step - accuracy: 0.9788 - loss: 0.0624 - val_accuracy: 0.9833 - val_loss: 0.0603\n",
            "Epoch 20/20\n",
            "\u001b[1m300/300\u001b[0m \u001b[32m━━━━━━━━━━━━━━━━━━━━\u001b[0m\u001b[37m\u001b[0m \u001b[1m98s\u001b[0m 327ms/step - accuracy: 0.9831 - loss: 0.0524 - val_accuracy: 0.9850 - val_loss: 0.0477\n"
          ]
        }
      ]
    },
    {
      "cell_type": "code",
      "source": [
        "# Evaluate the model\n",
        "test_loss, test_acc = model.evaluate(test_dataset)\n",
        "print(f\"Test Accuracy: {test_acc:.2f}\")"
      ],
      "metadata": {
        "colab": {
          "base_uri": "https://localhost:8080/"
        },
        "id": "zo4T17KzztdO",
        "outputId": "a67d45f2-42ae-4c7f-a12f-2be7f095006a"
      },
      "execution_count": 33,
      "outputs": [
        {
          "output_type": "stream",
          "name": "stdout",
          "text": [
            "\u001b[1m38/38\u001b[0m \u001b[32m━━━━━━━━━━━━━━━━━━━━\u001b[0m\u001b[37m\u001b[0m \u001b[1m0s\u001b[0m 8ms/step - accuracy: 0.9836 - loss: 0.0577\n",
            "Test Accuracy: 0.97\n"
          ]
        }
      ]
    },
    {
      "cell_type": "code",
      "source": [
        "model.save('hair_diseases_model.keras')"
      ],
      "metadata": {
        "id": "026dhyChIZds"
      },
      "execution_count": 34,
      "outputs": []
    },
    {
      "cell_type": "code",
      "source": [
        "# 1. Predict labels for the test dataset\n",
        "y_true = np.array([label.numpy() for _, label in test_dataset.unbatch()])\n",
        "y_pred = np.argmax(model.predict(test_dataset), axis=1)\n",
        "\n",
        "# 3. Compute the confusion matrix\n",
        "cm = confusion_matrix(y_true, y_pred)\n",
        "\n",
        "# 4. Plot the confusion matrix\n",
        "plt.figure(figsize=(8, 6))\n",
        "sns.heatmap(cm, annot=True, fmt=\"d\", cmap=\"Blues\", xticklabels=class_names, yticklabels=class_names)\n",
        "plt.xlabel(\"Predicted Labels\")\n",
        "plt.ylabel(\"True Labels\")\n",
        "plt.title(\"Confusion Matrix\")\n",
        "plt.show()\n"
      ],
      "metadata": {
        "colab": {
          "base_uri": "https://localhost:8080/",
          "height": 759
        },
        "id": "4H-UYqJj07ad",
        "outputId": "e498271c-5887-4e7d-f48c-137f36b046cf"
      },
      "execution_count": 35,
      "outputs": [
        {
          "output_type": "stream",
          "name": "stderr",
          "text": [
            "WARNING:tensorflow:5 out of the last 37 calls to <function TensorFlowTrainer.make_predict_function.<locals>.one_step_on_data_distributed at 0x7fcbe0b12ca0> triggered tf.function retracing. Tracing is expensive and the excessive number of tracings could be due to (1) creating @tf.function repeatedly in a loop, (2) passing tensors with different shapes, (3) passing Python objects instead of tensors. For (1), please define your @tf.function outside of the loop. For (2), @tf.function has reduce_retracing=True option that can avoid unnecessary retracing. For (3), please refer to https://www.tensorflow.org/guide/function#controlling_retracing and https://www.tensorflow.org/api_docs/python/tf/function for  more details.\n"
          ]
        },
        {
          "output_type": "stream",
          "name": "stdout",
          "text": [
            "\u001b[1m38/38\u001b[0m \u001b[32m━━━━━━━━━━━━━━━━━━━━\u001b[0m\u001b[37m\u001b[0m \u001b[1m6s\u001b[0m 84ms/step\n"
          ]
        },
        {
          "output_type": "display_data",
          "data": {
            "text/plain": [
              "<Figure size 800x600 with 2 Axes>"
            ],
            "image/png": "[encoded data removed]"
          },
          "metadata": {}
        }
      ]
    },
    {
      "cell_type": "code",
      "source": [
        "print(classification_report(y_true, y_pred, target_names=class_names))"
      ],
      "metadata": {
        "colab": {
          "base_uri": "https://localhost:8080/"
        },
        "id": "_pAHSa4x92ID",
        "outputId": "437890e5-abc4-469b-dbdd-369b8b942362"
      },
      "execution_count": 36,
      "outputs": [
        {
          "output_type": "stream",
          "name": "stdout",
          "text": [
            "                       precision    recall  f1-score   support\n",
            "\n",
            "      Alopecia Areata       0.92      1.00      0.96       120\n",
            "   Contact Dermatitis       1.00      0.98      0.99       120\n",
            "         Folliculitis       0.96      0.96      0.96       120\n",
            "            Head Lice       0.98      0.99      0.99       120\n",
            "        Lichen Planus       0.94      0.97      0.96       120\n",
            "Male Pattern Baldness       0.98      1.00      0.99       120\n",
            "            Psoriasis       1.00      0.95      0.97       120\n",
            "Seborrheic Dermatitis       0.96      0.97      0.97       120\n",
            "    Telogen Effluvium       0.99      0.96      0.97       120\n",
            "        Tinea Capitis       0.99      0.93      0.96       120\n",
            "\n",
            "             accuracy                           0.97      1200\n",
            "            macro avg       0.97      0.97      0.97      1200\n",
            "         weighted avg       0.97      0.97      0.97      1200\n",
            "\n"
          ]
        }
      ]
    },
    {
      "cell_type": "code",
      "source": [],
      "metadata": {
        "id": "ci5C02KS8i_U"
      },
      "execution_count": null,
      "outputs": []
    }
  ]
}